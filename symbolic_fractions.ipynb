{
 "cells": [
  {
   "cell_type": "code",
   "execution_count": 10,
   "id": "f758e3d4-ccac-4d6e-bb53-1554df647959",
   "metadata": {},
   "outputs": [
    {
     "data": {
      "text/latex": [
       "$ \\frac{4}{5} $"
      ],
      "text/plain": [
       "<IPython.core.display.Latex object>"
      ]
     },
     "metadata": {},
     "output_type": "display_data"
    },
    {
     "data": {
      "text/latex": [
       "$ \\frac{1}{2} $"
      ],
      "text/plain": [
       "<IPython.core.display.Latex object>"
      ]
     },
     "metadata": {},
     "output_type": "display_data"
    },
    {
     "data": {
      "text/latex": [
       "$ \\frac{5}{4} $"
      ],
      "text/plain": [
       "<IPython.core.display.Latex object>"
      ]
     },
     "metadata": {},
     "output_type": "display_data"
    },
    {
     "name": "stdout",
     "output_type": "stream",
     "text": [
      "True\n",
      "False\n"
     ]
    },
    {
     "data": {
      "text/latex": [
       "$ \\frac{8}{12} $"
      ],
      "text/plain": [
       "<IPython.core.display.Latex object>"
      ]
     },
     "metadata": {},
     "output_type": "display_data"
    },
    {
     "data": {
      "text/latex": [
       "$ \\frac{2}{3} $"
      ],
      "text/plain": [
       "<IPython.core.display.Latex object>"
      ]
     },
     "metadata": {},
     "output_type": "display_data"
    },
    {
     "data": {
      "text/latex": [
       "$ \\frac{7}{4} $"
      ],
      "text/plain": [
       "<IPython.core.display.Latex object>"
      ]
     },
     "metadata": {},
     "output_type": "display_data"
    },
    {
     "data": {
      "text/latex": [
       "$ \\frac{5}{8} $"
      ],
      "text/plain": [
       "<IPython.core.display.Latex object>"
      ]
     },
     "metadata": {},
     "output_type": "display_data"
    },
    {
     "data": {
      "text/latex": [
       "$ \\frac{3}{2} $"
      ],
      "text/plain": [
       "<IPython.core.display.Latex object>"
      ]
     },
     "metadata": {},
     "output_type": "display_data"
    },
    {
     "data": {
      "text/latex": [
       "$ \\frac{1}{8} $"
      ],
      "text/plain": [
       "<IPython.core.display.Latex object>"
      ]
     },
     "metadata": {},
     "output_type": "display_data"
    }
   ],
   "source": [
    "# Some necessary libraries to manipulate or to visualize the results: (we use latex to visualize)\n",
    "from math import gcd\n",
    "from tkinter import *\n",
    "from IPython.display import display, Latex\n",
    "from PIL import Image, ImageTk\n",
    "import matplotlib.pyplot as plt\n",
    "import io\n",
    "\n",
    "# We aim to create a fraction as an object, and the different manipulations associated.\n",
    "\n",
    "# First, we define a fraction as an object in Python (OOP approach) and the basic methods.\n",
    "# It is a primary basis for the complete program in the next \n",
    "class fraction:\n",
    "    def __init__(self, numerator: int, denominator: int):  # We specify the features' types to avoid confusion.\n",
    "        self.numerator = numerator\n",
    "        self.denominator = denominator  # This object has naturally two features.\n",
    "\n",
    "    def inv(self):  # An inverse function\n",
    "        self.numerator, self.denominator = self.denominator, self.numerator\n",
    "\n",
    "    def is_int(self):  # Checking whether the fraction is an integer.\n",
    "        return self.numerator % self.denominator == 0  \n",
    "\n",
    "    def canonic(self):  # Putting the fraction into the canonical mathematical form.\n",
    "        gcd_value = gcd(self.numerator, self.denominator)\n",
    "        self.numerator //= gcd_value\n",
    "        self.denominator //= gcd_value\n",
    "\n",
    "    def disp(self):  # A function to display the fraction in LaTeX:\n",
    "        display(Latex(f'$ \\\\frac{{{self.numerator}}}{{{self.denominator}}} $'))\n",
    "\n",
    "# Now we define the functions associated with the fraction object.\n",
    "def sum_frac(frac1: fraction, frac2: fraction):\n",
    "    res = fraction(1, 1)  # Initiating the sum.\n",
    "    res.numerator = frac1.numerator * frac2.denominator + frac2.numerator * frac1.denominator\n",
    "    res.denominator = frac1.denominator * frac2.denominator\n",
    "    res.canonic()  # Using the canonical form, previously defined as a method.\n",
    "    return res\n",
    "# Same thing for fraction multiplication. \n",
    "def mulp_frac(frac1: fraction, frac2: fraction):\n",
    "    res = fraction(1, 1)\n",
    "    res.numerator = frac1.numerator * frac2.numerator\n",
    "    res.denominator = frac1.denominator * frac2.denominator  \n",
    "    res.canonic()\n",
    "    return res \n",
    "\n",
    "def mulp_frac_seq(A, B):# Now we define, by recursion, the operations on fractions but on a sequence instead of it just being a binary operation.\n",
    "    if not A or not B:\n",
    "        return fraction(1,1)\n",
    "    return mulp_frac(fraction(A[0],B[0]), mulp_frac_seq(A[1:],B[1:])) # Here A is the sequence of the numerators, and B the sequence of the denominators. \n",
    "def sum_frac_seq(A,B):\n",
    "    if not A or not B:  # Base case: if either list is empty, return 0/1\n",
    "        return fraction(0, 1)\n",
    "    return sum_frac(fraction(A[0],B[0]), sum_frac_seq(A[:], B[1:]))\n",
    "    \n",
    "# Examples : \n",
    "a= fraction(4, 5)\n",
    "b= fraction(1, 2)\n",
    "c= fraction(6,2)\n",
    "k=fraction(8,12)\n",
    "# Simple vislualization of fractions and the methods:\n",
    "a.disp()\n",
    "b.disp()\n",
    "a.inv()\n",
    "a.disp()\n",
    "print(c.is_int())\n",
    "print(a.is_int())\n",
    "k.disp()\n",
    "k.canonic()\n",
    "k.disp()\n",
    "# Simple sum and multiplication\n",
    "sum_frac(a,b).disp()\n",
    "mulp_frac(a,b).disp()\n",
    "\n",
    "# Sum and multiplication of a sequence of fractions\n",
    "sum_frac_seq([1,1,1],[2,2,2]).disp()\n",
    "mulp_frac_seq([1,1,1],[2,2,2]).disp()\n",
    "\n"
   ]
  },
  {
   "cell_type": "code",
   "execution_count": 16,
   "id": "d22e4da0-4539-4c67-b9a0-1abfb1d0f88e",
   "metadata": {},
   "outputs": [],
   "source": [
    "# The first Cell of the notebook can be added to any other program while symbolic fraction manipulation is needed.\n",
    "#Now we make a dedicated program for this purpose.\n",
    "\n",
    "# Fraction manipulation with a GUI. \n",
    "\n",
    "# First, to display the symbols in Latex and assign them to buttons and outputs, we define the following function.\n",
    "\n",
    "def tex_to_im(latex_code):  # Had to use CHATGPT help for this function, lol. \n",
    "    # Create a figure with no frame\n",
    "    fig, ax = plt.subplots(figsize=(1, 1), dpi=300)\n",
    "    ax.text(0.5, 0.5, f\"${latex_code}$\", fontsize=20, ha='center', va='center')\n",
    "    ax.axis('off')  # Remove axes\n",
    "\n",
    "    # Save the figure to a buffer\n",
    "    buf = io.BytesIO()\n",
    "    plt.savefig(buf, format='png', bbox_inches='tight', pad_inches=0, transparent=True)\n",
    "    plt.close(fig)\n",
    "    buf.seek(0)\n",
    "\n",
    "    # Load the image into PIL\n",
    "    image = Image.open(buf)\n",
    "    return image\n",
    "root=Tk() \n",
    "root.title(\"Fractions\")\n",
    "\n",
    "# Confuguring the root window:\n",
    "root.geometry(\"1000x700\") \n",
    "root.configure(bg='#CDB699')\n",
    "\n",
    "# A refresh button:\n",
    "\n",
    "# The buttons commands : ( i.e adding the functionality to the sum and multiplication buttons )\n",
    "def calculate_sum():\n",
    "    try:\n",
    "        \n",
    "        print('')\n",
    "    except Exception as e:\n",
    "        print(f\"Error: {e}\")\n",
    "        result_label_sum.config(text=\"Invalid input or calculation error!\")\n",
    "\n",
    "def calculate_multiply():\n",
    "    try:\n",
    "        print('')\n",
    "    except Exception as e:\n",
    "        print(f\"Error: {e}\")\n",
    "        result_label_product.config(text=\"Invalid input or calculation error!\")\n",
    "\n",
    "\n",
    "\n",
    "# The first few Labels and their configuration: \n",
    "Label1=Label(root, text=\"The following simple program, manipulates fractions.\", bg=\"#BB6464\")\n",
    "Label1.pack(pady=10, padx=5)\n",
    "\n",
    "image = Image.open(\"frac.png\")  \n",
    "img = ImageTk.PhotoImage(image)\n",
    "img_label =Label(root, image=img)\n",
    "img_label.image = img  \n",
    "img_label.pack(pady=10)\n",
    "\n",
    "# Labels for the entries:\n",
    "Label2=Label(text=\"Please enter the numerators then the denominators of the fractions in question\", bg=\"#BB6464\")\n",
    "Label2.pack(pady=10, padx=5)\n",
    "image = Image.open(\"fi.png\")  \n",
    "img = ImageTk.PhotoImage(image)\n",
    "img_label =Label(root, image=img)\n",
    "img_label.image = img  \n",
    "img_label.pack(pady=10)\n",
    "\n",
    "#Entries (input as a sequence of numerators and denominators:\n",
    "fractions_num_seq_Button=Entry(root, bg=\"#C8F2EF\")\n",
    "fractions_num_seq_Button.pack(pady=10, padx=5)\n",
    "fractions_den_seq_Button=Entry(root, bg=\"#C8F2EF\")\n",
    "fractions_den_seq_Button.pack(pady=10, padx=5)\n",
    "multp_Button=Button(root,text=\"Multiply\", bg=\"#C3DBD9\", command=calculate_multiply).pack(pady=2)\n",
    "sum_Button=Button(root,text=\"Sum\", bg=\"#C3DBD9\", command=calculate_sum).pack(pady=2)\n",
    "#def_f_button=Button(root, text=\"Define a function operating on fractions, built out of elementary operations (under developpement)\", bg=\"#C3DBD9\").pack( pady=5)\n",
    "\n",
    "# A refresh button to reuse the program:\n",
    "# Create labels for displaying results\n",
    "result_label_sum = Label(root, bg=\"#C8F2EF\")\n",
    "result_label_sum.pack(pady=10)\n",
    "\n",
    "result_label_product = Label(root, bg=\"#C8F2EF\")\n",
    "result_label_product.pack(pady=10)\n",
    "\n",
    "root.mainloop()"
   ]
  },
  {
   "cell_type": "code",
   "execution_count": null,
   "id": "f84e4ff9-187c-447f-a6f5-98af0e2c8d1f",
   "metadata": {},
   "outputs": [],
   "source": []
  }
 ],
 "metadata": {
  "kernelspec": {
   "display_name": "Python 3 (ipykernel)",
   "language": "python",
   "name": "python3"
  },
  "language_info": {
   "codemirror_mode": {
    "name": "ipython",
    "version": 3
   },
   "file_extension": ".py",
   "mimetype": "text/x-python",
   "name": "python",
   "nbconvert_exporter": "python",
   "pygments_lexer": "ipython3",
   "version": "3.10.12"
  }
 },
 "nbformat": 4,
 "nbformat_minor": 5
}
