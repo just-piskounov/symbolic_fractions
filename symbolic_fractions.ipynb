{
 "cells": [
  {
   "cell_type": "code",
   "execution_count": 33,
   "id": "f758e3d4-ccac-4d6e-bb53-1554df647959",
   "metadata": {},
   "outputs": [],
   "source": [
    "# Some necessary libraries to manipulate or to visualize the results: (we use latex to visualize)\n",
    "from math import gcd\n",
    "from tkinter import *\n",
    "from IPython.display import display, Latex\n",
    "from PIL import Image, ImageTk\n",
    "import matplotlib.pyplot as plt\n",
    "import io\n",
    "\n",
    "# We aim to create a fraction as an object, and the different manipulations associated.\n",
    "\n",
    "# First, we define a fraction as an object in Python (OOP approach) and the basic methods.\n",
    "# It is a primary basis for the complete program in the next \n",
    "class fraction:\n",
    "    def __init__(self, numerator: int, denominator: int):  # We specify the features' types to avoid confusion.\n",
    "        self.numerator = numerator\n",
    "        self.denominator = denominator  # This object has naturally two features.\n",
    "\n",
    "    def inv(self):  # An inverse function\n",
    "        self.numerator, self.denominator = self.denominator, self.numerator\n",
    "\n",
    "    def is_int(self):  # Checking whether the fraction is an integer.\n",
    "        return self.numerator % self.denominator == 0  \n",
    "\n",
    "    def canonic(self):  # Putting the fraction into the canonical mathematical form.\n",
    "        gcd_value = gcd(self.numerator, self.denominator)\n",
    "        self.numerator //= gcd_value\n",
    "        self.denominator //= gcd_value\n",
    "\n",
    "    def disp(self):  # A function to display the fraction in LaTeX:\n",
    "        display(Latex(f'$ \\\\frac{{{self.numerator}}}{{{self.denominator}}} $'))\n",
    "\n",
    "# Now we define the functions associated with the fraction object.\n",
    "def sum_frac(frac1: fraction, frac2: fraction):\n",
    "    res = fraction(1, 1)  # Initiating the sum.\n",
    "    res.numerator = frac1.numerator * frac2.denominator + frac2.numerator * frac1.denominator\n",
    "    res.denominator = frac1.denominator * frac2.denominator\n",
    "    res.canonic()  # Using the canonical form, previously defined as a method.\n",
    "    return res\n",
    "# Same thing for fraction multiplication. \n",
    "def mulp_frac(frac1: fraction, frac2: fraction):\n",
    "    res = fraction(1, 1)\n",
    "    res.numerator = frac1.numerator * frac2.numerator\n",
    "    res.denominator = frac1.denominator * frac2.denominator  \n",
    "    res.canonic()\n",
    "    return res \n",
    "\n",
    "def mulp_frac_seq(A, B):# Now we define, by recursion, the operations on fractions but on a sequence instead of it just being a binary operation.\n",
    "    if not A or not B:\n",
    "        return fraction(1,1)\n",
    "    return mulp_frac(fraction(A[0],B[0]), mulp_frac_seq(A[1:],B[1:])) # Here A is the sequence of the numerators, and B the sequence of the denominators. \n",
    "def sum_frac_seq(A,B):\n",
    "    if not A or not B:  # Base case: if either list is empty, return 0/1\n",
    "        return fraction(0, 1)\n",
    "    return sum_frac(fraction(A[0],B[0]), sum_frac_seq(A[:], B[1:]))"
   ]
  },
  {
   "cell_type": "code",
   "execution_count": 40,
   "id": "49f76c42-bc21-45c2-b991-e4c10ad95bdc",
   "metadata": {},
   "outputs": [],
   "source": [
    "# Examples : \n",
    "a= fraction(4, 5)\n",
    "b= fraction(1, 2)\n",
    "c= fraction(6,2)\n",
    "k=fraction(8,12)"
   ]
  },
  {
   "cell_type": "code",
   "execution_count": 41,
   "id": "5263f086-ba66-4009-ad8c-a4f30d3eedb3",
   "metadata": {},
   "outputs": [
    {
     "data": {
      "text/latex": [
       "$ \\frac{4}{5} $"
      ],
      "text/plain": [
       "<IPython.core.display.Latex object>"
      ]
     },
     "metadata": {},
     "output_type": "display_data"
    },
    {
     "data": {
      "text/latex": [
       "$ \\frac{1}{2} $"
      ],
      "text/plain": [
       "<IPython.core.display.Latex object>"
      ]
     },
     "metadata": {},
     "output_type": "display_data"
    },
    {
     "data": {
      "text/latex": [
       "$ \\frac{5}{4} $"
      ],
      "text/plain": [
       "<IPython.core.display.Latex object>"
      ]
     },
     "metadata": {},
     "output_type": "display_data"
    }
   ],
   "source": [
    "# Simple vislualization of fractions and the methods:\n",
    "a.disp()\n",
    "b.disp()\n",
    "a.inv()\n",
    "a.disp()"
   ]
  },
  {
   "cell_type": "code",
   "execution_count": 42,
   "id": "5c9522bd-3bef-4314-815e-30cb7061d2dc",
   "metadata": {},
   "outputs": [
    {
     "name": "stdout",
     "output_type": "stream",
     "text": [
      "True\n",
      "False\n"
     ]
    },
    {
     "data": {
      "text/latex": [
       "$ \\frac{8}{12} $"
      ],
      "text/plain": [
       "<IPython.core.display.Latex object>"
      ]
     },
     "metadata": {},
     "output_type": "display_data"
    },
    {
     "data": {
      "text/latex": [
       "$ \\frac{2}{3} $"
      ],
      "text/plain": [
       "<IPython.core.display.Latex object>"
      ]
     },
     "metadata": {},
     "output_type": "display_data"
    }
   ],
   "source": [
    "print(c.is_int())\n",
    "print(a.is_int())\n",
    "k.disp()\n",
    "k.canonic()\n",
    "k.disp()"
   ]
  },
  {
   "cell_type": "code",
   "execution_count": 43,
   "id": "f1d1c11e-eeec-4410-bf64-94915783441f",
   "metadata": {},
   "outputs": [
    {
     "data": {
      "text/latex": [
       "$ \\frac{7}{4} $"
      ],
      "text/plain": [
       "<IPython.core.display.Latex object>"
      ]
     },
     "metadata": {},
     "output_type": "display_data"
    },
    {
     "data": {
      "text/latex": [
       "$ \\frac{5}{8} $"
      ],
      "text/plain": [
       "<IPython.core.display.Latex object>"
      ]
     },
     "metadata": {},
     "output_type": "display_data"
    }
   ],
   "source": [
    "# Simple sum and multiplication\n",
    "sum_frac(a,b).disp()\n",
    "mulp_frac(a,b).disp()"
   ]
  },
  {
   "cell_type": "code",
   "execution_count": 44,
   "id": "9ba02057-ebca-47b7-a91e-045455318150",
   "metadata": {},
   "outputs": [
    {
     "data": {
      "text/latex": [
       "$ \\frac{3}{2} $"
      ],
      "text/plain": [
       "<IPython.core.display.Latex object>"
      ]
     },
     "metadata": {},
     "output_type": "display_data"
    },
    {
     "data": {
      "text/latex": [
       "$ \\frac{1}{8} $"
      ],
      "text/plain": [
       "<IPython.core.display.Latex object>"
      ]
     },
     "metadata": {},
     "output_type": "display_data"
    }
   ],
   "source": [
    "# Sum and multiplication of a sequence of fractions\n",
    "sum_frac_seq([1,1,1],[2,2,2]).disp()\n",
    "mulp_frac_seq([1,1,1],[2,2,2]).disp()"
   ]
  },
  {
   "cell_type": "code",
   "execution_count": 47,
   "id": "bbc1c653-ef18-417f-ab41-2a01092f3fce",
   "metadata": {},
   "outputs": [],
   "source": [
    "# Now a more advanced program for the sole purpose to sum and multiply fractions.\n",
    "\n",
    "# Function for LaTeX to image conversion (had to use chatgpt for this one since garbage collection caused me a lot of problems)\n",
    "def latex_to_image(latex_code, label):\n",
    "    # Create a matplotlib figure to render the LaTeX with inverted colors\n",
    "    fig, ax = plt.subplots(figsize=(2, 1), dpi=200)  # Adjust the figsize and dpi as needed\n",
    "    ax.set_facecolor('black')  # Set background to black\n",
    "    ax.text(0.5, 0.5, f'${latex_code}$', fontsize=20, ha='center', va='center', color='white')  # Set text color to white\n",
    "    ax.axis('off')\n",
    "\n",
    "    # Save the figure to a buffer\n",
    "    buf = io.BytesIO()\n",
    "    plt.savefig(buf, format='png', bbox_inches='tight', pad_inches=0, facecolor='black')  # Set facecolor to black\n",
    "    plt.close(fig)\n",
    "    buf.seek(0)\n",
    "\n",
    "    # Convert the buffer to an image that Tkinter can handle\n",
    "    img = Image.open(buf)\n",
    "    img_tk = ImageTk.PhotoImage(img)\n",
    "\n",
    "    # Update the label with the new image\n",
    "    label.config(image=img_tk)\n",
    "    label.image = img_tk  # Keep a reference to avoid garbage collection\n",
    "\n",
    "\n",
    "root = Tk()\n",
    "root.title(\"Fractions\")\n",
    "root.geometry(\"1000x700\") \n",
    "root.configure(bg='#CDB699')\n",
    "\n",
    "# Create a Canvas and a Scrollbar\n",
    "canvas = Canvas(root)\n",
    "scrollbar = Scrollbar(root, orient=\"vertical\", command=canvas.yview)\n",
    "scrollable_frame = Frame(canvas)\n",
    "\n",
    "# Configure the scrollable frame and canvas\n",
    "scrollable_frame.bind(\n",
    "    \"<Configure>\",\n",
    "    lambda e: canvas.configure(scrollregion=canvas.bbox(\"all\"))\n",
    ")\n",
    "\n",
    "canvas.create_window((0, 0), window=scrollable_frame, anchor=\"nw\")\n",
    "canvas.configure(yscrollcommand=scrollbar.set)\n",
    "\n",
    "# Packing the canvas and scrollbar\n",
    "canvas.pack(side=\"left\", fill=\"both\", expand=True)\n",
    "scrollbar.pack(side=\"right\", fill=\"y\")\n",
    "\n",
    "# The buttons commands : ( i.e adding the functionality to the sum and multiplication buttons )\n",
    "def calculate_sum():\n",
    "    try:\n",
    "        numerators_text, denominators_text = fractions_num_seq_Button.get(), fractions_den_seq_Button.get()\n",
    "        numerators = [int(i) for i in numerators_text.split(',')]\n",
    "        denominators = [int(i) for i in denominators_text.split(',')]\n",
    "        res = sum_frac_seq(numerators, denominators)\n",
    "        latex_to_image(f\"\\\\sum_{{i=1}}^{{{len(numerators)}}} f_i = \\\\frac{{{res.numerator}}}{{{res.denominator}}}\", result_label_sum)\n",
    "    except Exception as e:\n",
    "        print(f\"Error: {e}\")\n",
    "        result_label_sum.config(text=\"Invalid input or calculation error!\")\n",
    "\n",
    "def calculate_multiply():\n",
    "    try:\n",
    "        numerators_text, denominators_text = fractions_num_seq_Button.get(), fractions_den_seq_Button.get()\n",
    "        numerators = [int(i) for i in numerators_text.split(',')]\n",
    "        denominators = [int(i) for i in denominators_text.split(',')]\n",
    "        res = mulp_frac_seq(numerators, denominators)\n",
    "        latex_to_image(f\"\\\\prod_{{i=1}}^{{{len(numerators)}}} f_i = \\\\frac{{{res.numerator}}}{{{res.denominator}}}\", result_label_sum)\n",
    "    except Exception as e:\n",
    "        print(f\"Error: {e}\")\n",
    "        result_label_product.config(text=\"Invalid input or calculation error!\")\n",
    "\n",
    "# The first few Labels and their configuration: \n",
    "Label1 = Label(scrollable_frame, text=\"The following simple program, manipulates fractions.\", bg=\"#BB6464\")\n",
    "Label1.pack(pady=10, padx=5)\n",
    "\n",
    "image = Image.open(\"frac.png\")  \n",
    "img = ImageTk.PhotoImage(image)\n",
    "img_label = Label(scrollable_frame, image=img)\n",
    "img_label.image = img  \n",
    "img_label.pack(pady=10)\n",
    "\n",
    "Label2 = Label(scrollable_frame, text=\"Please enter the numerators then the denominators of the fractions in question\", bg=\"#BB6464\")\n",
    "Label2.pack(pady=10, padx=5)\n",
    "\n",
    "image = Image.open(\"fi.png\")  \n",
    "img = ImageTk.PhotoImage(image)\n",
    "img_label = Label(scrollable_frame, image=img)\n",
    "img_label.image = img  \n",
    "img_label.pack(pady=10)\n",
    "\n",
    "# Entries (input as a sequence of numerators and denominators)\n",
    "fractions_num_seq_Button = Entry(scrollable_frame, bg=\"#C8F2EF\")\n",
    "fractions_num_seq_Button.pack(pady=10, padx=5)\n",
    "\n",
    "fractions_den_seq_Button = Entry(scrollable_frame, bg=\"#C8F2EF\")\n",
    "fractions_den_seq_Button.pack(pady=10, padx=5)\n",
    "\n",
    "multp_Button = Button(scrollable_frame, text=\"Multiply\", bg=\"#C3DBD9\", command=calculate_multiply)\n",
    "multp_Button.pack(pady=2)\n",
    "\n",
    "sum_Button = Button(scrollable_frame, text=\"Sum\", bg=\"#C3DBD9\", command=calculate_sum)\n",
    "sum_Button.pack(pady=2)\n",
    "\n",
    "# Create labels for displaying results.\n",
    "result_label_sum = Label(scrollable_frame, bg=\"#C8F2EF\")\n",
    "result_label_sum.pack(pady=10)\n",
    "\n",
    "result_label_product = Label(scrollable_frame, bg=\"#C8F2EF\")\n",
    "result_label_product.pack(pady=10)\n",
    "\n",
    "# Main window event loop.\n",
    "root.mainloop()"
   ]
  },
  {
   "cell_type": "code",
   "execution_count": null,
   "id": "5588a59e-d5bf-42b0-8608-c10219e3bd31",
   "metadata": {},
   "outputs": [],
   "source": []
  }
 ],
 "metadata": {
  "kernelspec": {
   "display_name": "Python 3 (ipykernel)",
   "language": "python",
   "name": "python3"
  },
  "language_info": {
   "codemirror_mode": {
    "name": "ipython",
    "version": 3
   },
   "file_extension": ".py",
   "mimetype": "text/x-python",
   "name": "python",
   "nbconvert_exporter": "python",
   "pygments_lexer": "ipython3",
   "version": "3.10.12"
  }
 },
 "nbformat": 4,
 "nbformat_minor": 5
}
